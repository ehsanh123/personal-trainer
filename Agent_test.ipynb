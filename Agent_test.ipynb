{
  "nbformat": 4,
  "nbformat_minor": 0,
  "metadata": {
    "colab": {
      "provenance": [],
      "authorship_tag": "ABX9TyOCJsl/7q94U68GOBK9EAW8",
      "include_colab_link": true
    },
    "kernelspec": {
      "name": "python3",
      "display_name": "Python 3"
    },
    "language_info": {
      "name": "python"
    }
  },
  "cells": [
    {
      "cell_type": "markdown",
      "metadata": {
        "id": "view-in-github",
        "colab_type": "text"
      },
      "source": [
        "<a href=\"https://colab.research.google.com/github/ehsanh123/personal-trainer/blob/main/Agent_test.ipynb\" target=\"_parent\"><img src=\"https://colab.research.google.com/assets/colab-badge.svg\" alt=\"Open In Colab\"/></a>"
      ]
    },
    {
      "cell_type": "code",
      "source": [
        "# !pip install google-cloud-secret-manager"
      ],
      "metadata": {
        "id": "FEsK7jrRVNw9"
      },
      "execution_count": null,
      "outputs": []
    },
    {
      "cell_type": "code",
      "source": [
        "!pip install google-cloud-dialogflow-cx"
      ],
      "metadata": {
        "id": "etQY24KQWv5U",
        "colab": {
          "base_uri": "https://localhost:8080/"
        },
        "outputId": "58775f92-5267-46f8-ca26-c2bf30c13dcb"
      },
      "execution_count": null,
      "outputs": [
        {
          "output_type": "stream",
          "name": "stdout",
          "text": [
            "Requirement already satisfied: google-cloud-dialogflow-cx in /usr/local/lib/python3.11/dist-packages (1.41.0)\n",
            "Requirement already satisfied: google-api-core!=2.0.*,!=2.1.*,!=2.10.*,!=2.2.*,!=2.3.*,!=2.4.*,!=2.5.*,!=2.6.*,!=2.7.*,!=2.8.*,!=2.9.*,<3.0.0,>=1.34.1 in /usr/local/lib/python3.11/dist-packages (from google-api-core[grpc]!=2.0.*,!=2.1.*,!=2.10.*,!=2.2.*,!=2.3.*,!=2.4.*,!=2.5.*,!=2.6.*,!=2.7.*,!=2.8.*,!=2.9.*,<3.0.0,>=1.34.1->google-cloud-dialogflow-cx) (2.24.2)\n",
            "Requirement already satisfied: google-auth!=2.24.0,!=2.25.0,<3.0.0,>=2.14.1 in /usr/local/lib/python3.11/dist-packages (from google-cloud-dialogflow-cx) (2.38.0)\n",
            "Requirement already satisfied: proto-plus<2.0.0,>=1.22.3 in /usr/local/lib/python3.11/dist-packages (from google-cloud-dialogflow-cx) (1.26.1)\n",
            "Requirement already satisfied: protobuf!=4.21.0,!=4.21.1,!=4.21.2,!=4.21.3,!=4.21.4,!=4.21.5,<7.0.0,>=3.20.2 in /usr/local/lib/python3.11/dist-packages (from google-cloud-dialogflow-cx) (5.29.4)\n",
            "Requirement already satisfied: googleapis-common-protos<2.0.0,>=1.56.2 in /usr/local/lib/python3.11/dist-packages (from google-api-core!=2.0.*,!=2.1.*,!=2.10.*,!=2.2.*,!=2.3.*,!=2.4.*,!=2.5.*,!=2.6.*,!=2.7.*,!=2.8.*,!=2.9.*,<3.0.0,>=1.34.1->google-api-core[grpc]!=2.0.*,!=2.1.*,!=2.10.*,!=2.2.*,!=2.3.*,!=2.4.*,!=2.5.*,!=2.6.*,!=2.7.*,!=2.8.*,!=2.9.*,<3.0.0,>=1.34.1->google-cloud-dialogflow-cx) (1.69.2)\n",
            "Requirement already satisfied: requests<3.0.0,>=2.18.0 in /usr/local/lib/python3.11/dist-packages (from google-api-core!=2.0.*,!=2.1.*,!=2.10.*,!=2.2.*,!=2.3.*,!=2.4.*,!=2.5.*,!=2.6.*,!=2.7.*,!=2.8.*,!=2.9.*,<3.0.0,>=1.34.1->google-api-core[grpc]!=2.0.*,!=2.1.*,!=2.10.*,!=2.2.*,!=2.3.*,!=2.4.*,!=2.5.*,!=2.6.*,!=2.7.*,!=2.8.*,!=2.9.*,<3.0.0,>=1.34.1->google-cloud-dialogflow-cx) (2.32.3)\n",
            "Requirement already satisfied: grpcio<2.0dev,>=1.33.2 in /usr/local/lib/python3.11/dist-packages (from google-api-core[grpc]!=2.0.*,!=2.1.*,!=2.10.*,!=2.2.*,!=2.3.*,!=2.4.*,!=2.5.*,!=2.6.*,!=2.7.*,!=2.8.*,!=2.9.*,<3.0.0,>=1.34.1->google-cloud-dialogflow-cx) (1.71.0)\n",
            "Requirement already satisfied: grpcio-status<2.0.dev0,>=1.33.2 in /usr/local/lib/python3.11/dist-packages (from google-api-core[grpc]!=2.0.*,!=2.1.*,!=2.10.*,!=2.2.*,!=2.3.*,!=2.4.*,!=2.5.*,!=2.6.*,!=2.7.*,!=2.8.*,!=2.9.*,<3.0.0,>=1.34.1->google-cloud-dialogflow-cx) (1.71.0)\n",
            "Requirement already satisfied: cachetools<6.0,>=2.0.0 in /usr/local/lib/python3.11/dist-packages (from google-auth!=2.24.0,!=2.25.0,<3.0.0,>=2.14.1->google-cloud-dialogflow-cx) (5.5.2)\n",
            "Requirement already satisfied: pyasn1-modules>=0.2.1 in /usr/local/lib/python3.11/dist-packages (from google-auth!=2.24.0,!=2.25.0,<3.0.0,>=2.14.1->google-cloud-dialogflow-cx) (0.4.2)\n",
            "Requirement already satisfied: rsa<5,>=3.1.4 in /usr/local/lib/python3.11/dist-packages (from google-auth!=2.24.0,!=2.25.0,<3.0.0,>=2.14.1->google-cloud-dialogflow-cx) (4.9)\n",
            "Requirement already satisfied: pyasn1<0.7.0,>=0.6.1 in /usr/local/lib/python3.11/dist-packages (from pyasn1-modules>=0.2.1->google-auth!=2.24.0,!=2.25.0,<3.0.0,>=2.14.1->google-cloud-dialogflow-cx) (0.6.1)\n",
            "Requirement already satisfied: charset-normalizer<4,>=2 in /usr/local/lib/python3.11/dist-packages (from requests<3.0.0,>=2.18.0->google-api-core!=2.0.*,!=2.1.*,!=2.10.*,!=2.2.*,!=2.3.*,!=2.4.*,!=2.5.*,!=2.6.*,!=2.7.*,!=2.8.*,!=2.9.*,<3.0.0,>=1.34.1->google-api-core[grpc]!=2.0.*,!=2.1.*,!=2.10.*,!=2.2.*,!=2.3.*,!=2.4.*,!=2.5.*,!=2.6.*,!=2.7.*,!=2.8.*,!=2.9.*,<3.0.0,>=1.34.1->google-cloud-dialogflow-cx) (3.4.1)\n",
            "Requirement already satisfied: idna<4,>=2.5 in /usr/local/lib/python3.11/dist-packages (from requests<3.0.0,>=2.18.0->google-api-core!=2.0.*,!=2.1.*,!=2.10.*,!=2.2.*,!=2.3.*,!=2.4.*,!=2.5.*,!=2.6.*,!=2.7.*,!=2.8.*,!=2.9.*,<3.0.0,>=1.34.1->google-api-core[grpc]!=2.0.*,!=2.1.*,!=2.10.*,!=2.2.*,!=2.3.*,!=2.4.*,!=2.5.*,!=2.6.*,!=2.7.*,!=2.8.*,!=2.9.*,<3.0.0,>=1.34.1->google-cloud-dialogflow-cx) (3.10)\n",
            "Requirement already satisfied: urllib3<3,>=1.21.1 in /usr/local/lib/python3.11/dist-packages (from requests<3.0.0,>=2.18.0->google-api-core!=2.0.*,!=2.1.*,!=2.10.*,!=2.2.*,!=2.3.*,!=2.4.*,!=2.5.*,!=2.6.*,!=2.7.*,!=2.8.*,!=2.9.*,<3.0.0,>=1.34.1->google-api-core[grpc]!=2.0.*,!=2.1.*,!=2.10.*,!=2.2.*,!=2.3.*,!=2.4.*,!=2.5.*,!=2.6.*,!=2.7.*,!=2.8.*,!=2.9.*,<3.0.0,>=1.34.1->google-cloud-dialogflow-cx) (2.3.0)\n",
            "Requirement already satisfied: certifi>=2017.4.17 in /usr/local/lib/python3.11/dist-packages (from requests<3.0.0,>=2.18.0->google-api-core!=2.0.*,!=2.1.*,!=2.10.*,!=2.2.*,!=2.3.*,!=2.4.*,!=2.5.*,!=2.6.*,!=2.7.*,!=2.8.*,!=2.9.*,<3.0.0,>=1.34.1->google-api-core[grpc]!=2.0.*,!=2.1.*,!=2.10.*,!=2.2.*,!=2.3.*,!=2.4.*,!=2.5.*,!=2.6.*,!=2.7.*,!=2.8.*,!=2.9.*,<3.0.0,>=1.34.1->google-cloud-dialogflow-cx) (2025.1.31)\n"
          ]
        }
      ]
    },
    {
      "cell_type": "code",
      "source": [
        "# %env GOOGLE_APPLICATION_CREDENTIALS=\"/content/plenary-stacker-457109-k5-6b664f4fa9ba.json\""
      ],
      "metadata": {
        "colab": {
          "base_uri": "https://localhost:8080/"
        },
        "id": "rTi9Nwm0VQRI",
        "outputId": "178992f9-c3a9-44d4-c29b-47bb314e5d27"
      },
      "execution_count": null,
      "outputs": [
        {
          "output_type": "stream",
          "name": "stdout",
          "text": [
            "env: GOOGLE_APPLICATION_CREDENTIALS=\"/content/plenary-stacker-457109-k5-6b664f4fa9ba.json\"\n"
          ]
        }
      ]
    },
    {
      "cell_type": "markdown",
      "source": [
        "#test existance of client and connection"
      ],
      "metadata": {
        "id": "Sm2JHEnM9p2h"
      }
    },
    {
      "cell_type": "code",
      "source": [
        "from google.cloud import dialogflowcx_v3 as dialogflow\n",
        "from google.oauth2 import service_account\n",
        "from google.api_core.client_options import ClientOptions\n",
        "\n",
        "# Provide the path to your service account key file\n",
        "credentials = service_account.Credentials.from_service_account_file(\n",
        "    '/content/plenary-stacker-457109-k5-6b664f4fa9ba.json'\n",
        ")\n",
        "\n",
        "# Set the correct endpoint for the region\n",
        "client_options = ClientOptions(api_endpoint='europe-west2-dialogflow.googleapis.com')\n",
        "\n",
        "# Initialize the Dialogflow client with the credentials and the region-specific endpoint\n",
        "client = dialogflow.AgentsClient(credentials=credentials, client_options=client_options)\n",
        "\n",
        "# Set up the necessary parameters\n",
        "project_id = 'plenary-stacker-457109-k5'\n",
        "location = 'europe-west2'\n",
        "agent_id = 'c827abce-ac66-40e5-a7e5-aba7e90b74ae'\n",
        "\n",
        "# Build the agent path using the correct format\n",
        "agent_path = f\"projects/{project_id}/locations/{location}/agents/{agent_id}\"\n",
        "\n",
        "# Get agent details\n",
        "agent = client.get_agent(request={\"name\": agent_path})\n",
        "\n",
        "print(\"Agent details:\", agent)\n"
      ],
      "metadata": {
        "colab": {
          "base_uri": "https://localhost:8080/"
        },
        "id": "sMPx3IdCWi3X",
        "outputId": "b7c0dcff-7581-4bbd-ede3-ceb5a2df4433"
      },
      "execution_count": null,
      "outputs": [
        {
          "output_type": "stream",
          "name": "stdout",
          "text": [
            "Agent details: name: \"projects/plenary-stacker-457109-k5/locations/europe-west2/agents/c827abce-ac66-40e5-a7e5-aba7e90b74ae\"\n",
            "display_name: \"AI PT\"\n",
            "default_language_code: \"en\"\n",
            "time_zone: \"America/Los_Angeles\"\n",
            "speech_to_text_settings {\n",
            "  enable_speech_adaptation: true\n",
            "}\n",
            "advanced_settings {\n",
            "  audio_export_gcs_destination {\n",
            "  }\n",
            "  speech_settings {\n",
            "    endpointer_sensitivity: 90\n",
            "    no_speech_timeout {\n",
            "      seconds: 3\n",
            "    }\n",
            "  }\n",
            "  logging_settings {\n",
            "  }\n",
            "}\n",
            "satisfies_pzs: true\n",
            "satisfies_pzi: true\n",
            "\n"
          ]
        }
      ]
    },
    {
      "cell_type": "markdown",
      "source": [
        "#test response client"
      ],
      "metadata": {
        "id": "7iHpRnXE9v4G"
      }
    },
    {
      "cell_type": "code",
      "source": [
        "from google.cloud import dialogflowcx_v3 as dialogflow\n",
        "from google.oauth2 import service_account\n",
        "from google.api_core.client_options import ClientOptions\n",
        "\n",
        "# Provide the path to your service account key file\n",
        "credentials = service_account.Credentials.from_service_account_file(\n",
        "    '/content/plenary-stacker-457109-k5-6b664f4fa9ba.json'\n",
        ")\n",
        "# Set the correct endpoint for the region\n",
        "client_options = ClientOptions(api_endpoint='europe-west2-dialogflow.googleapis.com')\n",
        "# Initialize the Dialogflow client with the credentials and the region-specific endpoint\n",
        "client = dialogflow.SessionsClient(credentials=credentials, client_options=client_options)\n",
        "\n",
        "# Set up the necessary parameters\n",
        "project_id = 'plenary-stacker-457109-k5'\n",
        "location = 'europe-west2'\n",
        "agent_id = 'c827abce-ac66-40e5-a7e5-aba7e90b74ae'\n",
        "session_id = 'unique-session-id'  # You can generate or use a static ID\n",
        "session_path = client.session_path(project_id, location, agent_id, session_id)\n",
        "\n",
        "############################\n",
        "masssage_send = 'Hello, how are you?'\n",
        "\n",
        "# Send a text query (prompt) to the agent\n",
        "# text_input = dialogflow.TextInput(text=masssage_send)  # Your prompt here\n",
        "query_input = dialogflow.QueryInput(\n",
        "    text= dialogflow.TextInput(text=masssage_send),\n",
        "    language_code='en'  # Specify the language code (e.g., 'en' for English)\n",
        ")\n",
        "\n",
        "# Send the query to the agent and get the response\n",
        "response = client.detect_intent(request={\"session\": session_path, \"query_input\": query_input})\n",
        "\n",
        "# Extract and print the response from the agent\n",
        "print(\"Response from agent:\", response.query_result.response_messages)  # This is where the actual input text will be\n",
        "# print(\"Fulfillment Text: \", response.query_result.fulfillment_text)"
      ],
      "metadata": {
        "colab": {
          "base_uri": "https://localhost:8080/"
        },
        "id": "6yMTFuLkbS2I",
        "outputId": "394b11ca-d795-4418-a626-f80e49e813c0"
      },
      "execution_count": null,
      "outputs": [
        {
          "output_type": "stream",
          "name": "stdout",
          "text": [
            "Response from agent: [text {\n",
            "  text: \"I understand you\\'d like me to remember our conversation. Unfortunately, I\\'m designed to treat each interaction as a new one.  Is there anything else I can help you with today?\"\n",
            "}\n",
            "]\n"
          ]
        }
      ]
    },
    {
      "cell_type": "code",
      "execution_count": null,
      "metadata": {
        "id": "ZOgNH4NQH6Ff",
        "outputId": "3b71f0e1-6862-468c-c3f6-37b550a5a33a",
        "colab": {
          "base_uri": "https://localhost:8080/",
          "height": 332
        }
      },
      "outputs": [
        {
          "output_type": "stream",
          "name": "stdout",
          "text": [
            "Response from agent:\n"
          ]
        },
        {
          "output_type": "error",
          "ename": "AttributeError",
          "evalue": "Unknown field for QueryResult: query_text",
          "traceback": [
            "\u001b[0;31m---------------------------------------------------------------------------\u001b[0m",
            "\u001b[0;31mAttributeError\u001b[0m                            Traceback (most recent call last)",
            "\u001b[0;32m<ipython-input-13-ffc39c3b4d0e>\u001b[0m in \u001b[0;36m<cell line: 0>\u001b[0;34m()\u001b[0m\n\u001b[1;32m     16\u001b[0m \u001b[0;31m# Extract and print the response from the agent\u001b[0m\u001b[0;34m\u001b[0m\u001b[0;34m\u001b[0m\u001b[0m\n\u001b[1;32m     17\u001b[0m \u001b[0mprint\u001b[0m\u001b[0;34m(\u001b[0m\u001b[0;34m\"Response from agent:\"\u001b[0m\u001b[0;34m)\u001b[0m\u001b[0;34m\u001b[0m\u001b[0;34m\u001b[0m\u001b[0m\n\u001b[0;32m---> 18\u001b[0;31m \u001b[0mprint\u001b[0m\u001b[0;34m(\u001b[0m\u001b[0;34m\"Query Text: \"\u001b[0m\u001b[0;34m,\u001b[0m \u001b[0mresponse\u001b[0m\u001b[0;34m.\u001b[0m\u001b[0mquery_result\u001b[0m\u001b[0;34m.\u001b[0m\u001b[0mquery_text\u001b[0m\u001b[0;34m)\u001b[0m\u001b[0;34m\u001b[0m\u001b[0;34m\u001b[0m\u001b[0m\n\u001b[0m\u001b[1;32m     19\u001b[0m \u001b[0mprint\u001b[0m\u001b[0;34m(\u001b[0m\u001b[0;34m\"Response Text: \"\u001b[0m\u001b[0;34m,\u001b[0m \u001b[0mresponse\u001b[0m\u001b[0;34m.\u001b[0m\u001b[0mquery_result\u001b[0m\u001b[0;34m.\u001b[0m\u001b[0mfulfillment_text\u001b[0m\u001b[0;34m)\u001b[0m\u001b[0;34m\u001b[0m\u001b[0;34m\u001b[0m\u001b[0m\n",
            "\u001b[0;32m/usr/local/lib/python3.11/dist-packages/proto/message.py\u001b[0m in \u001b[0;36m__getattr__\u001b[0;34m(self, key)\u001b[0m\n\u001b[1;32m    875\u001b[0m         \u001b[0;34m(\u001b[0m\u001b[0mkey\u001b[0m\u001b[0;34m,\u001b[0m \u001b[0mpb_type\u001b[0m\u001b[0;34m)\u001b[0m \u001b[0;34m=\u001b[0m \u001b[0mself\u001b[0m\u001b[0;34m.\u001b[0m\u001b[0m_get_pb_type_from_key\u001b[0m\u001b[0;34m(\u001b[0m\u001b[0mkey\u001b[0m\u001b[0;34m)\u001b[0m\u001b[0;34m\u001b[0m\u001b[0;34m\u001b[0m\u001b[0m\n\u001b[1;32m    876\u001b[0m         \u001b[0;32mif\u001b[0m \u001b[0mpb_type\u001b[0m \u001b[0;32mis\u001b[0m \u001b[0;32mNone\u001b[0m\u001b[0;34m:\u001b[0m\u001b[0;34m\u001b[0m\u001b[0;34m\u001b[0m\u001b[0m\n\u001b[0;32m--> 877\u001b[0;31m             raise AttributeError(\n\u001b[0m\u001b[1;32m    878\u001b[0m                 \u001b[0;34m\"Unknown field for {}: {}\"\u001b[0m\u001b[0;34m.\u001b[0m\u001b[0mformat\u001b[0m\u001b[0;34m(\u001b[0m\u001b[0mself\u001b[0m\u001b[0;34m.\u001b[0m\u001b[0m__class__\u001b[0m\u001b[0;34m.\u001b[0m\u001b[0m__name__\u001b[0m\u001b[0;34m,\u001b[0m \u001b[0mkey\u001b[0m\u001b[0;34m)\u001b[0m\u001b[0;34m\u001b[0m\u001b[0;34m\u001b[0m\u001b[0m\n\u001b[1;32m    879\u001b[0m             )\n",
            "\u001b[0;31mAttributeError\u001b[0m: Unknown field for QueryResult: query_text"
          ]
        }
      ],
      "source": [
        "client2 = dialogflow.SessionsClient(credentials=credentials, client_options=client_options)\n",
        "\n",
        "session_id = 'unique-session-id'  # You can generate or use a static ID\n",
        "session_path = client2.session_path(project_id, location, agent_id, session_id)\n",
        "\n",
        "# Send a text query (prompt) to the agent\n",
        "text_input = dialogflow.TextInput(text='Hello, how are you?')  # Your prompt here\n",
        "query_input = dialogflow.QueryInput(\n",
        "    text=text_input,\n",
        "    language_code='en'  # Specify the language code (e.g., 'en' for English)\n",
        ")\n",
        "\n",
        "# Send the query to the agent and get the response\n",
        "response = client2.detect_intent(request={\"session\": session_path, \"query_input\": query_input})\n",
        "\n",
        "# Extract and print the response from the agent\n",
        "print(\"Response from agent:\")\n",
        "print(\"Query Text: \", response.query_result.query_text)\n",
        "print(\"Response Text: \", response.query_result.fulfillment_text)"
      ]
    },
    {
      "cell_type": "markdown",
      "source": [
        "#create functions for it"
      ],
      "metadata": {
        "id": "zpI7ZynX9ymk"
      }
    },
    {
      "cell_type": "code",
      "source": [
        "from google.cloud import dialogflowcx_v3 as dialogflow\n",
        "from google.oauth2 import service_account\n",
        "from google.api_core.client_options import ClientOptions\n",
        "\n",
        "# from google.cloud import secretmanager\n",
        "# client = secretmanager.SecretManagerServiceClient()\n",
        "\n",
        "def set_session(path = '/content/plenary-stacker-457109-k5-6b664f4fa9ba.json',\n",
        "                api_endpoint1 = 'europe-west2-dialogflow.googleapis.com',\n",
        "                project_id1 = 'plenary-stacker-457109-k5',\n",
        "                loc1 = 'europe-west2',\n",
        "                agent_i = 'c827abce-ac66-40e5-a7e5-aba7e90b74ae',\n",
        "                sesion_id1 = 'something'):\n",
        "  # Provide the path to your service account key file\n",
        "  credentials = service_account.Credentials.from_service_account_file(\n",
        "    path\n",
        "  )\n",
        "  # Set the correct endpoint for the region\n",
        "  client_options = ClientOptions(api_endpoint=api_endpoint1)\n",
        "  # Initialize the Dialogflow client with the credentials and the region-specific endpoint\n",
        "  client1 = dialogflow.SessionsClient(credentials=credentials, client_options=client_options)\n",
        "\n",
        "  # Set up the necessary parameters\n",
        "  project_id = project_id1#'plenary-stacker-457109-k5'\n",
        "  location = loc1#'europe-west2'\n",
        "  agent_id = agent_i#'c827abce-ac66-40e5-a7e5-aba7e90b74ae'\n",
        "  session_id = sesion_id1  # You can generate or use a static ID\n",
        "\n",
        "  session_path1 = client1.session_path(project_id, location, agent_id, session_id)\n",
        "\n",
        "  return client1, session_path1\n",
        "\n",
        "# Send a text query (prompt) to the agent\n",
        "# text_input = dialogflow.TextInput(text=masssage_send)  # Your prompt here\n",
        "def get_response(masssage_):\n",
        "  query_input = dialogflow.QueryInput(\n",
        "    text= dialogflow.TextInput(text=masssage_),\n",
        "    language_code='en'  # Specify the language code (e.g., 'en' for English)\n",
        "  )\n",
        "  # Send the query to the agent and get the response\n",
        "  response = client.detect_intent(request={\"session\": session_path, \"query_input\": query_input})\n",
        "\n",
        "  #get the massage from reposane\n",
        "  response_message = response.query_result.response_messages\n",
        "  message1 = ''\n",
        "  # Loop through the response messages and extract the text message\n",
        "  for message in response_message:\n",
        "    if message.text:\n",
        "      if hasattr(message.text.text, '__iter__'):\n",
        "            # If it's iterable (Repeated), join the elements into a single string\n",
        "            message1 += ''.join(message.text.text)\n",
        "      else:\n",
        "            # If it's already a string, concatenate directly\n",
        "            message1 += message.text.text\n",
        "  if message1 == '':\n",
        "    message1 = response.query_result.fulfillment_text\n",
        "  return message1\n",
        "  # return response.query_result.response_messages\n",
        "\n",
        "\n",
        "\n"
      ],
      "metadata": {
        "id": "90JqxP3Xbkgq"
      },
      "execution_count": null,
      "outputs": []
    },
    {
      "cell_type": "code",
      "source": [
        "client,session_path = set_session()\n",
        "\n",
        "#\n",
        "masssage_send = 'how can i make it so you have memory of my prevous converations in this session'\n",
        "# Extract and print the response from the agent\n",
        "print(\"Response from agent:\", get_response(masssage_send))\n",
        " # This is where the actual input text will be"
      ],
      "metadata": {
        "colab": {
          "base_uri": "https://localhost:8080/"
        },
        "id": "nep7vCx59hPm",
        "outputId": "d373717f-29a2-4759-fda3-3e62f14eaf71"
      },
      "execution_count": null,
      "outputs": [
        {
          "output_type": "stream",
          "name": "stdout",
          "text": [
            "Response from agent: I understand you're looking for a way to have me remember past conversations within the same session.  While I'm designed to be helpful, I don't have the ability to retain information from previous interactions. Each conversation starts fresh.\n"
          ]
        }
      ]
    },
    {
      "cell_type": "code",
      "source": [
        "masssage_send = 'what are you'\n",
        "# Extract and print the response from the agent\n",
        "print(masssage_send,\" -> \\n\", get_response(masssage_send))\n",
        " # This is where the actual input text will be"
      ],
      "metadata": {
        "colab": {
          "base_uri": "https://localhost:8080/"
        },
        "id": "BVh0lSyl96ec",
        "outputId": "f973d9ae-4dd1-43ab-de28-acd8686435c1"
      },
      "execution_count": null,
      "outputs": [
        {
          "output_type": "stream",
          "name": "stdout",
          "text": [
            "what are you  -> \n",
            " I am a large language model, trained to communicate and generate human-like text in response to a wide range of prompts and questions.\n"
          ]
        }
      ]
    }
  ]
}